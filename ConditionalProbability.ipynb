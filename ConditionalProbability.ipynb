{
  "nbformat": 4,
  "nbformat_minor": 0,
  "metadata": {
    "colab": {
      "provenance": [],
      "authorship_tag": "ABX9TyNtIgMA3fugijd0tFMXd6aA",
      "include_colab_link": true
    },
    "kernelspec": {
      "name": "python3",
      "display_name": "Python 3"
    },
    "language_info": {
      "name": "python"
    }
  },
  "cells": [
    {
      "cell_type": "markdown",
      "metadata": {
        "id": "view-in-github",
        "colab_type": "text"
      },
      "source": [
        "<a href=\"https://colab.research.google.com/github/iskyldrm/PigeonholePrinciple/blob/main/ConditionalProbability.ipynb\" target=\"_parent\"><img src=\"https://colab.research.google.com/assets/colab-badge.svg\" alt=\"Open In Colab\"/></a>"
      ]
    },
    {
      "cell_type": "markdown",
      "source": [
        "##Koşullu Olasılık Tanımı:"
      ],
      "metadata": {
        "id": "hXsb9z0Koawo"
      }
    },
    {
      "cell_type": "markdown",
      "source": [
        "Koşullu Olasılık Tanımı:\n",
        "\n",
        "Koşullu olasılık, bir olayın olma olasılığının, başka bir olayın gerçekleşmesi koşuluyla hesaplandığı olasılıktır. Bir A olayının, B olayının gerçekleşmesi koşuluyla olma olasılığı\n",
        "P(A∣B) şeklinde gösterilir ve şu formülle hesaplanır:\n",
        "P(A∣B)=\n",
        "P(B)\n",
        "P(A∩B)\n",
        "​\n",
        "\n",
        "\n",
        "Burada\n",
        "P(A∩B), hem A hem de B olaylarının birlikte olma olasılığıdır ve\n",
        "P(B), B olayının olma olasılığıdır. Bu formül,\n",
        ">\n",
        "0\n",
        "P(B)>0 olduğu durumlar için geçerlidir.\n",
        "\n",
        "Örnek:\n",
        "\n",
        "Bir deste iskambil kartından iki kart çekiyoruz. İlk kartı yerine koymadan ikinci kartı çekiyoruz. İlk çektiğimiz kartın kırmızı olduğunu biliyoruz. İkinci çektiğimiz kartın da kırmızı olma olasılığı nedir?\n",
        "\n",
        "İlk kartın kırmızı olma olasılığı:\n",
        "\n",
        "Bir destede toplam 52 kart ve 26 kırmızı kart vardır.\n",
        "P(Kırmızı\n",
        "1\n",
        "​\n",
        " )=\n",
        "26/52\n",
        "​\n",
        " =\n",
        "1/2\n",
        "​\n",
        "\n",
        "\n",
        "İlk kartın kırmızı olduğunu bildiğimizde ikinci kartın da kırmızı olma olasılığı:\n",
        "\n",
        "İlk kart kırmızı olduğu ve yerine konulmadığı için destede 51 kart kalmıştır, bunların 25 tanesi kırmızıdır (ilk kırmızı kart çekildiği için).\n",
        "P(Kırmızı\n",
        "2\n",
        "​\n",
        " ∣Kırmızı\n",
        "​\n",
        " )=\n",
        "25/51\n",
        "​\n",
        "\n",
        "\n",
        "Yani, ilk kartın kırmızı olduğunu bildiğimizde, ikinci kartın kırmızı olma olasılığı\n",
        "25/51\n",
        "​\n",
        " dir."
      ],
      "metadata": {
        "id": "0UW5RrAqoiUz"
      }
    },
    {
      "cell_type": "markdown",
      "source": [],
      "metadata": {
        "id": "BrmhS9a1orc5"
      }
    },
    {
      "cell_type": "code",
      "source": [
        "import random\n",
        "\n",
        "def draw_card(deck):\n",
        "    # Desten bir kart çek ve desteden çıkar\n",
        "    card = random.choice(deck)\n",
        "    deck.remove(card)\n",
        "    return card\n",
        "\n",
        "def conditional_probability_simulation(trials):\n",
        "    red_first_and_red_second = 0\n",
        "    red_first = 0\n",
        "\n",
        "    for _ in range(trials):\n",
        "        # 26 kırmızı ve 26 siyah kart içeren bir deste oluştur\n",
        "        deck = ['red'] * 26 + ['black'] * 26\n",
        "        # İlk kartı çek\n",
        "        first_card = draw_card(deck)\n",
        "        if first_card == 'red':\n",
        "            red_first += 1\n",
        "            # İlk kart kırmızıysa ikinci kartı çek\n",
        "            second_card = draw_card(deck)\n",
        "            if second_card == 'red':\n",
        "                red_first_and_red_second += 1\n",
        "\n",
        "    # İlk kartın kırmızı olduğu durumlarda ikinci kartın da kırmızı olma olasılığını hesapla\n",
        "    return red_first_and_red_second / red_first if red_first > 0 else 0\n",
        "\n",
        "# Simülasyon için deneme sayısı\n",
        "trials = 100000\n",
        "probability = conditional_probability_simulation(trials)\n",
        "print(f\"İlk kartın kırmızı olması koşuluyla ikinci kartın kırmızı olma olasılığı yaklaşık olarak: {probability:.4f}\")\n"
      ],
      "metadata": {
        "colab": {
          "base_uri": "https://localhost:8080/"
        },
        "id": "KmiPSPU4ohbs",
        "outputId": "b64c7f8d-7806-4869-cdaa-2de010f44175"
      },
      "execution_count": 1,
      "outputs": [
        {
          "output_type": "stream",
          "name": "stdout",
          "text": [
            "İlk kartın kırmızı olması koşuluyla ikinci kartın kırmızı olma olasılığı yaklaşık olarak: 0.4960\n"
          ]
        }
      ]
    }
  ]
}