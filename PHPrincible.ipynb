{
  "nbformat": 4,
  "nbformat_minor": 0,
  "metadata": {
    "colab": {
      "provenance": [],
      "authorship_tag": "ABX9TyPcE+xd2N+4rQXzeAAPvPqU",
      "include_colab_link": true
    },
    "kernelspec": {
      "name": "python3",
      "display_name": "Python 3"
    },
    "language_info": {
      "name": "python"
    }
  },
  "cells": [
    {
      "cell_type": "markdown",
      "metadata": {
        "id": "view-in-github",
        "colab_type": "text"
      },
      "source": [
        "<a href=\"https://colab.research.google.com/github/iskyldrm/PigeonholePrinciple/blob/main/PHPrincible.ipynb\" target=\"_parent\"><img src=\"https://colab.research.google.com/assets/colab-badge.svg\" alt=\"Open In Colab\"/></a>"
      ]
    },
    {
      "cell_type": "markdown",
      "source": [
        "## TANIM"
      ],
      "metadata": {
        "id": "SDA1pO_-2vRe"
      }
    },
    {
      "cell_type": "markdown",
      "source": [
        "Güvercin Yuvası Prensibi genellikle sayısal problemlerde karşımıza çıkar. Örneğin, 10 farklı renkte topumuz var ve bu topları 9 adet yuvaya yerleştirmek istiyoruz. Eğer her yuvaya en az bir top yerleştirmek zorundayızsa, en az kaç tane topu aynı yuvaya koyarız?\n",
        "\n",
        "Bu durumda, her yuvaya en az bir top yerleştireceğimiz için 9 topu ilk 9 yuvaya koyabiliriz. Geriye kalan 1 topu ise herhangi bir yuvaya koyabiliriz. Bu durumda en az 1 top aynı yuvaya koyulmuş olacaktır. Dolayısıyla, en az 1 topu aynı yuvaya koyarız."
      ],
      "metadata": {
        "id": "QYgoU7CP2yfV"
      }
    },
    {
      "cell_type": "markdown",
      "source": [
        "### KOD"
      ],
      "metadata": {
        "id": "0MxLXjhB28m6"
      }
    },
    {
      "cell_type": "code",
      "source": [
        "def en_az_ayni_yuvaya_top(num_yuva, num_farkli_top):\n",
        "    if num_farkli_top > num_yuva:\n",
        "        return num_farkli_top - num_yuva + 1\n",
        "    else:\n",
        "        return 1\n"
      ],
      "metadata": {
        "id": "YM_d7ZqT3AXC"
      },
      "execution_count": 8,
      "outputs": []
    },
    {
      "cell_type": "code",
      "source": [
        "num_yuva = 21\n",
        "num_farkli_top = 22\n",
        "sonuc = en_az_ayni_yuvaya_top(num_yuva, num_farkli_top)\n",
        "print(f\"En az {sonuc} topu aynı yuvaya koyarız.\")"
      ],
      "metadata": {
        "colab": {
          "base_uri": "https://localhost:8080/"
        },
        "id": "D5B-fEn63eXk",
        "outputId": "688f8496-e7f2-4322-9230-bfb8501c2047"
      },
      "execution_count": 11,
      "outputs": [
        {
          "output_type": "stream",
          "name": "stdout",
          "text": [
            "En az 2 topu aynı yuvaya koyarız.\n"
          ]
        }
      ]
    }
  ]
}