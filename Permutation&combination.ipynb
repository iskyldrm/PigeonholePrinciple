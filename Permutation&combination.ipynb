{
  "nbformat": 4,
  "nbformat_minor": 0,
  "metadata": {
    "colab": {
      "provenance": [],
      "authorship_tag": "ABX9TyN9Vm+TaX7TKr03eIC5Qnb2",
      "include_colab_link": true
    },
    "kernelspec": {
      "name": "python3",
      "display_name": "Python 3"
    },
    "language_info": {
      "name": "python"
    }
  },
  "cells": [
    {
      "cell_type": "markdown",
      "metadata": {
        "id": "view-in-github",
        "colab_type": "text"
      },
      "source": [
        "<a href=\"https://colab.research.google.com/github/iskyldrm/PigeonholePrinciple/blob/main/Permutation%26combination.ipynb\" target=\"_parent\"><img src=\"https://colab.research.google.com/assets/colab-badge.svg\" alt=\"Open In Colab\"/></a>"
      ]
    },
    {
      "cell_type": "markdown",
      "source": [
        "## Permüstasyon Tanımı"
      ],
      "metadata": {
        "id": "AkPUra-D57BH"
      }
    },
    {
      "cell_type": "markdown",
      "source": [
        "Permütasyon, bir nesne kümesindeki elemanların farklı sıralanma biçimlerini ifade eder. Yani, verilen bir kümedeki elemanların her birinin kaç farklı sıralanış şekli olduğunu gösterir. Örneğin, 3 elemanlı bir kümedeki elemanların permütasyon sayısı 3! (3 faktöriyel) olacaktır, çünkü ilk eleman için 3 seçenek, ikinci eleman için 2 seçenek ve üçüncü eleman için 1 seçenek vardır.\n",
        "\n",
        "Python'da, itertools modülü permütasyonları oluşturmak için kullanılabilir. Örnek bir Python kodu şu şekilde olabilir:"
      ],
      "metadata": {
        "id": "l-XARIYX6A03"
      }
    },
    {
      "cell_type": "code",
      "source": [
        "from itertools import permutations\n",
        "\n",
        "# Bir liste\n",
        "liste = [1, 2, 3]\n",
        "\n",
        "# Liste elemanlarının permütasyonlarını oluştur\n",
        "permütasyonlar = permutations(liste)\n",
        "\n",
        "# Permütasyonları ekrana yazdır\n",
        "for permütasyon in permütasyonlar:\n",
        "    print(permütasyon)\n"
      ],
      "metadata": {
        "colab": {
          "base_uri": "https://localhost:8080/"
        },
        "id": "RYHavVvM6HyD",
        "outputId": "60b214d8-d8a1-4ba0-ec3a-3db5c20c7749"
      },
      "execution_count": 1,
      "outputs": [
        {
          "output_type": "stream",
          "name": "stdout",
          "text": [
            "(1, 2, 3)\n",
            "(1, 3, 2)\n",
            "(2, 1, 3)\n",
            "(2, 3, 1)\n",
            "(3, 1, 2)\n",
            "(3, 2, 1)\n"
          ]
        }
      ]
    },
    {
      "cell_type": "markdown",
      "source": [
        "Soru: Bir grup öğrenci arasından 3 kişi seçilecektir. Bu grup içinde Ahmet ve Mehmet'in bulunma olasılığı nedir?\n",
        "\n",
        "Çözüm:\n",
        "Toplam öğrenci sayısı: N\n",
        "Ahmet ve Mehmet de dahil seçilecek öğrenci sayısı: r"
      ],
      "metadata": {
        "id": "XYkwMU3R7Zrq"
      }
    },
    {
      "cell_type": "code",
      "source": [
        "from math import comb\n",
        "\n",
        "def ahmet_mehmet_olasiligi(N, r):\n",
        "    # Ahmet ve Mehmet'in bulunma olasılığını hesapla\n",
        "    ahmet_mehmet = comb(2, 2) * comb(N - 2, 1)\n",
        "    toplam_secilme = comb(N, r)\n",
        "    olasilik = ahmet_mehmet / toplam_secilme\n",
        "    return olasilik\n",
        "\n",
        "N = 5  # Toplam öğrenci sayısı\n",
        "r = 3  # Seçilecek öğrenci sayısı\n",
        "\n",
        "olasilik = ahmet_mehmet_olasiligi(N, r)\n",
        "print(f\"Ahmet ve Mehmet'in bulunma olasılığı: {olasilik}\")\n"
      ],
      "metadata": {
        "colab": {
          "base_uri": "https://localhost:8080/"
        },
        "id": "o9XNOoer7aPi",
        "outputId": "f388d05d-a28c-47ef-bc3b-0fd54cce8264"
      },
      "execution_count": 2,
      "outputs": [
        {
          "output_type": "stream",
          "name": "stdout",
          "text": [
            "Ahmet ve Mehmet'in bulunma olasılığı: 0.3\n"
          ]
        }
      ]
    },
    {
      "cell_type": "markdown",
      "source": [
        "## Kombinasyon Tanımı"
      ],
      "metadata": {
        "id": "L6SpXWBR7yb7"
      }
    },
    {
      "cell_type": "markdown",
      "source": [
        "Kombinasyon, bir nesne kümesinden belirli sayıda nesnenin seçilmesinde sıranın önemli olmadığı durumu ifade eder. Yani, kombinasyonda seçilen nesnelerin sırası önemli değildir. Kombinasyonlar genellikle \"C(n, r)\" şeklinde gösterilir, burada \"n\" toplam nesne sayısını, \"r\" seçilecek nesne sayısını temsil eder.\n",
        "\n",
        "Örneğin, 5 farklı renkteki 10 top arasından 3 top seçileceği bir durumu ele alalım. Bu durumda herhangi bir sıra olmadığı için kombinasyon kullanılır. C(10, 3) şeklinde ifade edilen kombinasyon, 10 top arasından 3 top seçmenin kaç farklı şekilde yapılabileceğini verir."
      ],
      "metadata": {
        "id": "eoiSnSwv7498"
      }
    },
    {
      "cell_type": "markdown",
      "source": [
        "Soru: Bir kart destesindeki 52 kart arasından 4 kart seçilecektir. Bu seçimde sıralama önemli olmadığında, farklı renkteki en az 2 kız ve 2 erkek kart seçme olasılığı nedir?\n",
        "\n",
        "Çözüm:\n",
        "Toplam kart sayısı: N\n",
        "Kız kart sayısı: k\n",
        "Erkek kart sayısı: e\n",
        "Seçilecek kart sayısı: r\n",
        "\n",
        "Önce, en az 2 kız ve 2 erkek kart seçme olasılığını bulalım. Bu durumda, 2 kız ve 2 erkek kart seçme olasılığı ve 3 kız ve 1 erkek kart seçme olasılığını toplayacağız.\n",
        "\n",
        "2 kız ve 2 erkek kart seçme olasılığı:\n",
        "P1 = C(k, 2) * C(e, 2) / C(N, r)\n",
        "\n",
        "3 kız ve 1 erkek kart seçme olasılığı:\n",
        "P2 = C(k, 3) * C(e, 1) / C(N, r)\n",
        "\n",
        "Toplam olasılık:\n",
        "P = P1 + P2\n",
        "\n",
        "Örneğin, N = 52 (52 kart), k = 13 (4 farklı renkte 13 kız kartı), e = 39 (4 farklı renkte 39 erkek kartı) ve r = 4 (toplam seçilecek kart sayısı) için:"
      ],
      "metadata": {
        "id": "K1-oJjA28eX3"
      }
    },
    {
      "cell_type": "code",
      "source": [
        "from math import comb\n",
        "\n",
        "N = 52\n",
        "k = 13\n",
        "e = 39\n",
        "r = 4\n",
        "\n",
        "P1 = comb(k, 2) * comb(e, 2) / comb(N, r)\n",
        "P2 = comb(k, 3) * comb(e, 1) / comb(N, r)\n",
        "\n",
        "P = P1 + P2\n",
        "print(f\"En az 2 kız ve 2 erkek kart seçme olasılığı: {P}\")\n"
      ],
      "metadata": {
        "colab": {
          "base_uri": "https://localhost:8080/"
        },
        "id": "cjWYzN8w8ZiC",
        "outputId": "ee920fe7-e60d-44c5-e77b-9aa0bbd89377"
      },
      "execution_count": 3,
      "outputs": [
        {
          "output_type": "stream",
          "name": "stdout",
          "text": [
            "En az 2 kız ve 2 erkek kart seçme olasılığı: 0.2546938775510204\n"
          ]
        }
      ]
    }
  ]
}